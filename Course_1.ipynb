{
  "nbformat": 4,
  "nbformat_minor": 0,
  "metadata": {
    "colab": {
      "provenance": [],
      "authorship_tag": "ABX9TyMGG2zo5pKqj7UanfIn0+HY",
      "include_colab_link": true
    },
    "kernelspec": {
      "name": "python3",
      "display_name": "Python 3"
    },
    "language_info": {
      "name": "python"
    }
  },
  "cells": [
    {
      "cell_type": "markdown",
      "metadata": {
        "id": "view-in-github",
        "colab_type": "text"
      },
      "source": [
        "<a href=\"https://colab.research.google.com/github/NikolayLenkovNikolaev/PBPK-QSP/blob/main/Course_1.ipynb\" target=\"_parent\"><img src=\"https://colab.research.google.com/assets/colab-badge.svg\" alt=\"Open In Colab\"/></a>"
      ]
    },
    {
      "cell_type": "markdown",
      "source": [
        "# Introductuion to Bayesian statistical principles and moethods\n",
        "\n",
        "Bayesian principles and methods provide a coherent framework for:\n",
        "- quantifying uncertainty\n",
        "- making inferences in the presence of that uncertainty\n",
        "\n",
        "It is also the basi for formal approaches to incremental model building, parameter estimation and other statistical inference as knowladge and data are accumulated.\n",
        "\n",
        "The two core notions that sidtinguish Bayesian analysis are:\n",
        "1. unkown quantities are viwed as random variables, i.e. they are described in terms ofprobability distributions.\n",
        "2. Bayes rule provides a formal mechanism for combinig prior knowladge and new data.\n"
      ],
      "metadata": {
        "id": "0zFd6r0ffDf0"
      }
    },
    {
      "cell_type": "markdown",
      "source": [
        "## Bayesian approach to statistical inference\n",
        "\n",
        "Model parameters and predictions described in terms of probability distributions representing uncertainty\n",
        "\n",
        "Results reflect the combined evidence of data and prior knowladge or belief\n",
        "\n",
        "Focuses on estimation and inferences related to probabilities of unknown quantities: parameters, future data, hypotheses\n",
        "\n",
        "Inferences are decribed directly in terms of probabilities\n"
      ],
      "metadata": {
        "id": "-mayFGuYfE5k"
      }
    },
    {
      "cell_type": "markdown",
      "source": [
        "## Bayes Rule:\n",
        "\n",
        "Bayes Rule is the basic for inference about model parameters $\\theta$ given data $y$ and prior knowladge about model parameters $p(\\theta)$\n",
        "\n",
        "$$p(\\theta|y)= \\frac{p(\\theta)p(y|\\theta)}{p(y)}= \\frac{p(\\theta)p(y|\\theta)}{\\int p(\\theta)p(y|\\theta)d\\theta} \\propto p(\\theta)p(y|\\theta)$$\n",
        "\n",
        "The p's are probabilities or probability densitities of the specified random variables.\n",
        "\n"
      ],
      "metadata": {
        "id": "1hQakHnhfE8U"
      }
    },
    {
      "cell_type": "markdown",
      "source": [
        "## Bayesian modeling/inference process\n",
        "1. Access prior distribution $p(\\theta)$\n",
        "- $\\theta$ viwed as random variables\n",
        "- subjective\n",
        "- ideally base on all available evidence /knowladge (or belief)\n",
        "- or deliberately select a non-informative prior (e.g. reference, vague or improper prior)\n",
        "\n",
        "2. Construct a model for the data $p(y|\\theta)$ , also known as the likelihood function when viwed as a function of $\\theta$\n",
        "3. Calculate posterior distribution $p(\\theta|y)$\n",
        "- use for inferences regarding distributin $p(y_{new}|y)$\n",
        "\n",
        "4. Calculate posterior predictive distribution $p(y_{new}|y)$\n",
        "- use for inferences regarding future observations\n",
        "$$p(y_{new}|y)= \\int p(y_{new}|\\theta)p(\\theta|y)d\\theta$$\n",
        "\n"
      ],
      "metadata": {
        "id": "LoRUBI07fE--"
      }
    },
    {
      "cell_type": "markdown",
      "source": [
        "## Posterior Simulation\n",
        "\n",
        "WHat if you could simulate samples of $\\theta$ form the joint posterior distribution?\n",
        "\n",
        "Then you could estimate $E[f(\\theta)|y]$ by the aritmetic mean:\n",
        "$$E(f(\\theta|y)) ≈ \\frac{1}{n} \\sum_{i=1}^n f(\\theta_i)$$\n",
        "\n",
        "More generally, you could characterize the properties of any marginal posterior distribution of a model parameter or function of model parameters, e.g., moments, quantiles...\n",
        "\n",
        "But how do you simulate sample sfrom a high dimensional joint posterior distribution?\n",
        "\n",
        "Markov chain Monte Carlo MCMC simulation is the approache we will explore .\n",
        "\n"
      ],
      "metadata": {
        "id": "9pkmBXENfFBd"
      }
    },
    {
      "cell_type": "markdown",
      "source": [
        "## Inferences from posterior simulations:\n",
        "\n",
        "Posterior simulation yields vectors of parameters and/or predictions from a joint posterior distribution\n",
        "\n",
        "Marginal distributions:\n",
        "- to describe the posterior distribution of any scalar function of the parameters apply the function to each simulated vector. The empirical distribution of those values approximates the posterior distribution.\n",
        "- the marginal distrribution of any single parameters is just a specil case of that approach\n",
        "\n",
        "Inferences are usually based on moemtns, probabilities or percentiles from marginal posterior distributions. They are readily estimated from the corresponding sample statistic for the simulated values.\n",
        "\n"
      ],
      "metadata": {
        "id": "V7PKLYNQfFEK"
      }
    },
    {
      "cell_type": "markdown",
      "source": [
        "## Tools for Bayesian modeling and Inference:\n",
        "\n",
        "There remains challenge of simulating from high dimensional posterior distributions.\n",
        "\n",
        "MCMC simulation has become the primary method.\n",
        "- simulation methods for performing high dimensional simulation required for Bayesian modeling\n",
        "- simulate random varibles form the posterior distributions of interes, e.g. means and variance of the population distributions of Pk/PD parameters\n",
        "- inferences follow directly the distributions of simulated parameter values.\n",
        "    - poiint estimates from mean, median or mode\n",
        "    posterior intervals from perentiles e.g. 95% interval from the 2.5 and 97.5 percentiles"
      ],
      "metadata": {
        "id": "nilkOZFvfFGe"
      }
    },
    {
      "cell_type": "markdown",
      "source": [
        "## MCMC simulation\n",
        "\n",
        "Omvcp;ves radom draws from approximate distibutions and then correcting those draws to better approximate the joint posterior.\n",
        "\n",
        "The samples are drawn sequentially so that each draw depends on the previous one, thus forming a Markov chain\n",
        "\n",
        "Eventually the Markov chain converges (in distribution) to a stationary distribution that is the join posterior distribution.\n",
        "\n",
        "ALgorithms for MCMC include:\n",
        "- metropolis -Haistings algorithm\n",
        "- Gibbs sampling\n",
        "- Hamiltonian Monte Carlo simulation HMC\n",
        "\n",
        "MCMC samples are serially correlated:\n",
        "- inferences based on MCMC require more samples than would be required for independent samples\n",
        "\n",
        "Pratical consequences:\n",
        "- use only samples drawn after convergence is achieved i.e. discard samples from a warmup phase.\n",
        "- draw more samples than you would for independent random draws.\n",
        "\n"
      ],
      "metadata": {
        "id": "w-L_sjqOfFI9"
      }
    },
    {
      "cell_type": "markdown",
      "source": [
        "## Gibs Sampling\n",
        "\n",
        "In most cases a convergent Markov chain may be constucted by progressively sampling from the univariate full conditional distributions:\n",
        "\n",
        "$$\\theta_1^i \\sim p(\\theta_1|\\theta_2^{i-1}, \\theta_3^{i-1}...\\theta_n^{i-1}, y)$$\n",
        "\n",
        "$$\\theta_2^i \\sim p(\\theta_2|\\theta_1^{i}, \\theta_3^{i-1}...\\theta_n^{i-1}, y)$$\n",
        "\n",
        "...\n",
        "\n",
        "$$\\theta_n^i \\sim p(\\theta_n|\\theta_1^{i}, \\theta_2^{i}...\\theta_{n-1}^{i}, y)$$\n",
        "\n",
        "This reduces the multivariate posterior sampling problem to a sequence of more managable univariate sampling problems.\n",
        "\n"
      ],
      "metadata": {
        "id": "OI7xEax2fFLo"
      }
    },
    {
      "cell_type": "markdown",
      "source": [
        "Metropolis-Hasting algorithm:\n",
        "\n",
        "The MH is a general purpose multivariate mCMC algorithm\n",
        "\n",
        "Require selection of a conditional proposal density $q(y|x)$ that is easy to sample from\n",
        "\n",
        "To generate $x^{t+1}\\sim f$ given a previous value $x^{t}$\n",
        "1. Generate $y_t \\sim q(y|x^t)$\n",
        "2. $x^{t+1}$\n",
        "    - $y_t \\text{ with probability } \\rho(x^t, y_t)$\n",
        "    - $x^t \\text{ with probability } 1-\\rho(x^t, y_t)$\n",
        "\n",
        "Where $\\rho(x, y) = min (\\frac{f(y)q(x|y)}{f(x)q(y|x)}, 1)$"
      ],
      "metadata": {
        "id": "R7cNMPiWfFNt"
      }
    },
    {
      "cell_type": "markdown",
      "source": [
        "HMC simulation\n",
        "\n",
        "Physical analogy to motivate HMC\n",
        "\n",
        "Is classical mechanics the Hamilton equations describe the evolution of a system over time\n",
        "\n",
        "The state of the system is described in terms of kinetic energy as a function of mementum (mass*velocity) and potential energy as a function of position.\n",
        "\n",
        "For the analiogy equate the model parameters $\\theta$ to postion and equate a set of auxiliary paramters $rho$ to momentm.\n",
        "\n",
        "Now define a Hamilton in terms of the joint posterior distribution of $\\theta$ and $\\rho$\n",
        "\n",
        "$H(\\theta, y)= -log(p(\\theta, \\rho|y))= -log(p(\\theta|y)p(\\rho|\\theta, y))= -log(p(\\theta|y)-log(p(\\rho|\\theta, y)))= V(\\theta)+ T(\\rho|\\theta)$\n",
        "\n",
        "$V(\\theta)= -log(p(\\theta|y))$ - potential energy\n",
        "\n",
        "$T(\\rho|\\theta) = -log(p(\\rho|\\theta, y))$ - kinetic energy\n",
        "\n",
        "$\\theta$ is what we really care about\n",
        "\n",
        "$\\rho$ allows the use of Hamiltonian mechanics to more efficiently move through the relevant parts of the parameter space.\n",
        "\n",
        "Usually the distribution of $\\rho$ is chosen to be independent of $\\theta$ e/g/ $p(\\rho|\\theta) = p(\\rho)= N(0, \\sum)$\n",
        "\n",
        "Suppose we place a frictionless particle on the potential energy surface ($-log(p(\\theta|y))$) at some postion $\\theta^{t-2}$\n",
        "\n",
        "- we give it a shove that imparts a momentum $\\rho^{t-1}$ to that particle at time t-1\n",
        "- the particle moves over that surfae according to Hamiltonian dynamics\n",
        "- now stop the particle at time t and measure its postion $\\theta^t$\n",
        "- now randoly sample a new momentum from $p(\\rho)$ and give the particle another shove and so on..\n",
        "\n",
        "Through the intial momentum at each step is random, the subseqeuent path will favor regions of lower potential energy (higher probability density)\n",
        "\n",
        "The set of sampled postions are distributed accordign to the target posterior density\n",
        "\n",
        "In practice the Hamilton equation are solved numerically. As a result some error is introduced in the estimated path\n",
        "\n",
        "A metropolis step is used to asssure that the postion sample sconverge in distribution to the target distribution."
      ],
      "metadata": {
        "id": "G2wYaqDkfFQM"
      }
    },
    {
      "cell_type": "markdown",
      "source": [
        "## HMC algortism\n",
        "\n",
        "Repat the following steps:\n",
        "1. sample $\\rho^{t-1} \\sim N(0, \\sum)$\n",
        "2.Simultaneously update $\\theta$ and $\\rho$ by numerically solving the Hamilton equations usuing the peapfrog method to generate a proposal $\\theta^* $ for $\\theta^t$.\n",
        "\n",
        "3. Apply a Metropolis step to decide whether to accept or reject the proposal $\\theta^*$ as $\\theta^t$\n",
        "\n"
      ],
      "metadata": {
        "id": "oHsq-firfFSe"
      }
    },
    {
      "cell_type": "markdown",
      "source": [
        "## The leapfrog method:\n",
        "\n",
        "Using the starting values $\\theta^{t-1}$ and $\\rho^{t-1}$ the leapfrog algorithm aleternates half-step updates of $rho$ with full step updates of $\\theta$"
      ],
      "metadata": {
        "id": "39i7o4NffFU0"
      }
    },
    {
      "cell_type": "markdown",
      "source": [
        "![image.png](data:image/png;base64,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)"
      ],
      "metadata": {
        "id": "LKmFCuKFfFZp"
      }
    },
    {
      "cell_type": "markdown",
      "source": [
        "For each HMC iteration repeat this L times to yield the proposal values $\\theta^*$ and $\\rho^*$"
      ],
      "metadata": {
        "id": "phfFwz_0fFcM"
      }
    },
    {
      "cell_type": "markdown",
      "source": [
        "## The Metropolis step:\n",
        "1. COmpute the ratio\n",
        "\n",
        "2. Accept/reject step:\n",
        "\n",
        "3. Since $\\rho$ is sampled independently of $\\theta$ and previous values of $\\rho$ we just discard $\\rho^*$ and sample a new values for the next HMC interation"
      ],
      "metadata": {
        "id": "V8V05DczfDie"
      }
    },
    {
      "cell_type": "markdown",
      "source": [
        "## HMC algorithm parameters:\n",
        "\n",
        "Parameters that must be set:\n",
        "- discretization time $ϵ$\n",
        "- number of leapfrog steps L\n",
        "- mass $\\sum^{-1$}\n",
        "\n",
        "Sampling efficiency is vary senstive to whose parameters:\n",
        "- $\\epsilon$ too large - too many proposals rejected\n",
        "- $\\epsilon$ - long simulation times\n",
        "- $L$ too large - too much work for each i\n",
        "- $L$ too small - devolves to a random walk\n",
        "- if $\\sum^{-1}$ is poorly tuned to the problem, $\\epsilon$ need s to be decreased and L increased to maintain precision and efficiency.\n",
        "\n",
        "!!! NUTS or U-turn sampling\n",
        "\n",
        "try to find: MD Hoffman and A Gelman."
      ],
      "metadata": {
        "id": "XLzieS27fDlE"
      }
    },
    {
      "cell_type": "markdown",
      "source": [
        "## HMC issues/limitations:\n",
        "\n",
        "Requires calculation of the gradien $\\frac{d.log(p(\\theta|Y))}{d\\theta}$\n",
        "\n",
        "Suitable for sampling of continuous parameters only\n",
        "- cannot sample discrete parameters\n",
        "- discrete data is OK as long as the likelihood depends only on continuous parameters.\n",
        "- models with discrete parameters e.g. finite mixture models, can often be implemented by marginalizing out the discrete parameters.\n",
        "\n"
      ],
      "metadata": {
        "id": "ADCxPrdHfDnw"
      }
    },
    {
      "cell_type": "markdown",
      "source": [
        "## Using rstan\n",
        "rstan is an R package available from CRAN sites, e.g.,\n",
        "https://cran.r-project.org/\n",
        "- Contains several R functions for:\n",
        "    - Translating Stan models to C++,\n",
        "    - Compiling the resulting C++ code,\n",
        "    - Analyzing data using the Stan model,\n",
        "    - Analyzing, summarizing and plotting the resulting MCMC samples.\n",
        "- We will focus on only a few of those functions—particularly stan().\n",
        "\n"
      ],
      "metadata": {
        "id": "iVKOAMm_fDqe"
      }
    },
    {
      "cell_type": "markdown",
      "source": [
        "## linear1\n",
        "\n",
        "## Linear 2 - Posterior predictive checks PPC\n",
        "\n",
        "## Hands on 1: PkPd modeling of time everaged biomarker and Pk data\n",
        "\n",
        "- Data: data/derived/fxa.data.avg.csv\n",
        "- Version 1\n",
        "    - Uses linear2 as a template\n",
        "    - Stan model: model/fxaInhibitAvg1.stan\n",
        "    - R script: script/fxaInhibitAvg1.R\n",
        "- Version 2\n",
        "    - Introduces additional Stan features\n",
        "    - Vectors and vectorized calculations\n",
        "    - Additional program blocks: “transformed parameters” and “generated quantities”\n",
        "    - Stan model: model/fxaInhibitAvg2.stan\n",
        "    - R script: script/fxaInhibitAvg2.R\n"
      ],
      "metadata": {
        "id": "tHqafe8BfDsl"
      }
    },
    {
      "cell_type": "markdown",
      "source": [
        "## Assessing convergence & adequacy of sample sizes\n",
        "\n",
        "Early samples may be unrepresenatative of the target distribution\n",
        "\n",
        "MCMC samples within a chain are autocorelated.\n",
        "- inferences based on MCMCM samples are less precise than those from the same number of independent samples\n",
        "- autocorrelation also influecnces the rate of convergence\n",
        "\n",
        "Use a $warmup$ phase i.e. discard early iterations\n",
        "\n",
        "Monitor convergence via multiple chains with different starting points\n",
        "- look for chains to converge to a common distribution\n",
        "- you want chain history plots to look more like straight horizontal fuzzy caterpillars than wiggy snakes\n",
        "- monito Gelman-Rubin diagnostics (Rhat) and /or Gelman-Rubin -Brooks plots\n",
        "    - essentially ratios of total variance to within chain variance\n",
        "    - should approach 1 for all parameters of interest on convergence\n",
        "\n",
        "\n"
      ],
      "metadata": {
        "id": "9ZGfmxntfDvK"
      }
    },
    {
      "cell_type": "markdown",
      "source": [
        "## How many samples\n",
        "Numbers of samples depends on the inference(s) of interest and the desired precision\n",
        "\n",
        "For independetnt samples:\n",
        "- a posterior mean of a parameter $\\theta$ is estimated with an error of $\\sim \\frac{s_{\\theta}}{\\sqrt{n}}$ where $s_{\\theta}$ is the standard deviation of the simulated values of $\\theta$ and n-is the number of samples\n",
        "- a probability p is estimated with an error of $\\sim \\sqrt{\\frac{p(1-p)}{n}}$\n",
        "\n",
        "Ingeneral more samples arerrequired for estimating tail quantiles and probabilities than for central tendencises and probabilities near 0.5\n",
        "\n"
      ],
      "metadata": {
        "id": "lTn5IxydfDxe"
      }
    },
    {
      "cell_type": "markdown",
      "source": [
        "Given a set of MCMC samples it is possible to adjust for autocorrelation to estimate:\n",
        "- the equivalent number of independent sample, aka effective sample size(n_eff)\n",
        "- sthe standard error in the sampled posterior mean\n",
        "- the rstan rpint and summary functions provide estimated of each\n",
        "\n",
        "Guidance based on indpendetn samples may then be applied\n",
        "\n",
        "See Casella e Rober - 2004- 8,7"
      ],
      "metadata": {
        "id": "7fP09swufDz6"
      }
    },
    {
      "cell_type": "markdown",
      "source": [
        "## Programming hierarchical models (e.g. population models)\n",
        "\n",
        "Consider the usual case where you want to model 2 levels of variability e.g. inter-individual and residual\n",
        "\n",
        "The bulk of the data set consissts of aset of equal lenght vectors\n",
        "- data calues(s) for each observation\n",
        "- iondividual identifier: use a consecutive sequence of integers\n",
        "- covariates(dose, time, etc)\n",
        "\n",
        "May include constants such as numbers of observations and patients, parameters of prior distributions, etc.\n",
        "\n"
      ],
      "metadata": {
        "id": "x1oCONHkfD2X"
      }
    },
    {
      "cell_type": "markdown",
      "source": [
        "## Hierarchical model for dose-response:\n",
        "\n",
        "E_max model with inter-trial variation in $E_0, E_{max}$"
      ],
      "metadata": {
        "id": "rhAcpfHcfD4t"
      }
    },
    {
      "cell_type": "markdown",
      "source": [
        "![image.png](data:image/png;base64,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)"
      ],
      "metadata": {
        "id": "XEDuWTdqfD6y"
      }
    },
    {
      "cell_type": "markdown",
      "source": [
        "## Demo Hierarchical model for dose-response\n",
        "\n",
        "DoseResponse.csv\n",
        "\n",
        "doseResponseMBMA1.R\n",
        "\n",
        "\n"
      ],
      "metadata": {
        "id": "oHTWWBmZfD9n"
      }
    },
    {
      "cell_type": "markdown",
      "source": [
        "## INdividual and Population predictions\n",
        "\n",
        "![image.png](data:image/png;base64,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)"
      ],
      "metadata": {
        "id": "JTRIvLLb1o3P"
      }
    },
    {
      "cell_type": "markdown",
      "source": [
        "## Prior distributions:\n",
        "\n",
        "Think of prior distr4ibution as part of the model\n",
        "\n",
        "Priors should be chosen and subjected to scrutiny much like other model components.\n",
        "\n",
        "Model checking should ideally include sensitivity analysis of the priors.\n",
        "\n",
        "Choose of priors ios most critical with sparse or limited data:\n",
        "\n",
        "See https://github.com/stan-dev/stan/wiki/\n",
        "## Prior-Choice-Recommendations"
      ],
      "metadata": {
        "id": "9V8XY1Gj1o5n"
      }
    },
    {
      "cell_type": "markdown",
      "source": [
        "## waht is the function of a prior distribution\n",
        "\n",
        "Represnt prior knowladge\n",
        "\n",
        "Regularization to facilitate computation\n",
        "- typically weak moderately informative\n",
        "- e.g. cauchy with most o its mass in plausible range, byt aheavy tails allow for diagonosis of prior -postrior discrepancies\n",
        "\n"
      ],
      "metadata": {
        "id": "q9Cwd8TM1o8C"
      }
    },
    {
      "cell_type": "markdown",
      "source": [
        "## What does it mean to be informative, uninformative or weakly informative?\n",
        "\n",
        "Not well defined, but here's an attempt at some loose definitions:\n",
        "- weekly informative prior: a prior that tules out unreasonale parameter values but is not so streong as to rule out values that might make sense\n",
        "\n",
        "- Informative prior:  a prior that purposely represents information intended to influence the posterior distriction\n",
        "    -- to capture prior knowladge\n",
        "    - to challenge the analysis with competing points of view, e/g/ use of pessimistic or optimistic priors\n",
        "\n",
        "Uniformative prior: ostansibly a prior that rep[resents no informative and therfore let's the data tell the story\"\n",
        "- e.g. a constant over the entire real line - an imroper prior\n",
        "\n"
      ],
      "metadata": {
        "id": "giSjNmpj1o-h"
      }
    },
    {
      "cell_type": "markdown",
      "source": [
        "## Beware: That \"uninformative\" pripor might not be\n",
        "\n",
        "SUppose you see an improper prior for a standard deviation - aconstant over the positive real line\n",
        "\n",
        "That means all possitive values are equally likely. SOunds like a reasonable definiton of uniformative doesn't it?\n",
        "\n",
        "But that means that the prior assigns infinitely more probability ot the set of values greater than any fixed value you care to choose.\n",
        "\n",
        "This will tend to bias the posterior to high values.\n",
        "\n",
        "Bottom line: A uniform distribution does not automatically confer uniformativness\n",
        "\n"
      ],
      "metadata": {
        "id": "BZJO9Jxq1pBZ"
      }
    },
    {
      "cell_type": "markdown",
      "source": [
        "## Brief note on truncated distributions:\n",
        "\n",
        "Truncated priors:\n",
        "- parameter bounds are sufficient\n",
        "\n",
        "Truncated distribution fo rderived parameter od data:\n",
        "\n",
        "Not same as censoring:"
      ],
      "metadata": {
        "id": "gxle7Vlh1pD1"
      }
    },
    {
      "cell_type": "markdown",
      "source": [
        "## Hand on 2: Population PkPd modeling of time-matched biomarker and Pk data\n",
        "\n",
        "fxalnhibit1.R"
      ],
      "metadata": {
        "id": "SyI6JgCd1pGE"
      }
    },
    {
      "cell_type": "markdown",
      "source": [
        "## Programming for pharmacometricians:\n",
        "\n",
        "Let’s focus on 2 programming tasks:\n",
        "- Pharmacokinetic compartmental models\n",
        "- Dosing and observation event schedules"
      ],
      "metadata": {
        "id": "WLl2JM4j1pIQ"
      }
    },
    {
      "cell_type": "markdown",
      "source": [
        "## demo:2 ME-2 single dose PK\n",
        "\n",
        "- single DosePk1.R"
      ],
      "metadata": {
        "id": "TwLZhb6C1pKm"
      }
    },
    {
      "cell_type": "markdown",
      "source": [
        "## Recursive approach:\n",
        "Dealing with dosing and observation event schedules\n",
        "- data format: time-ordered event records for each individual\n",
        "- for each event time calculate the amount in each compartment given the compartment amounts plus doses at the previous event time\n",
        "- this also allows for time-vaying (pieace-wise constant) parameter values\n",
        "\n",
        "Same approach works for compartmental models descirbed in terms of analytic or numerical solutions\n",
        "\n"
      ],
      "metadata": {
        "id": "bydmQfzL1pNX"
      }
    },
    {
      "cell_type": "markdown",
      "source": [
        "## Demo: Multiple dose Pk with sparse sampling\n",
        "\n",
        "multiDOsePk1.R"
      ],
      "metadata": {
        "id": "qmsPpRku1pPx"
      }
    },
    {
      "cell_type": "markdown",
      "source": [
        "## Hnads on 3\n",
        "\n",
        "MultiDoseME2PK1Ncp.R"
      ],
      "metadata": {
        "id": "VIAEa0OH1pSJ"
      }
    },
    {
      "cell_type": "markdown",
      "source": [
        "## Dealing with censored data in Stan\n",
        "The Stan language strongly separates the roles of data and\n",
        "parameters (random variables).\n",
        "\n",
        "This has consequences for handling of censored data.\n",
        "- Observed data are known values and thus true data.\n",
        "- Censored data are unknown values and thus random variables.\n",
        "\n",
        "The user must explicitly separate and declare observed and\n",
        "censored data:\n",
        "- Observed data in the data block.\n",
        "- Censored data in the parameters block.\n",
        "    - Only need to declare censored data if you want to simulate predicted values.\n",
        "    - Information such as censoring bounds and whether the data is\n",
        "censored is data that should be declared in the data block.\n",
        "\n",
        "And also specify different likelihoods for observed and censored\n",
        "data."
      ],
      "metadata": {
        "id": "2dnJ3qdW1pUc"
      }
    },
    {
      "cell_type": "markdown",
      "source": [
        "## Demo PL modeling with BLQ data\n",
        "\n",
        "multiDoseME2PK2.R"
      ],
      "metadata": {
        "id": "-3T9GVNB1pW7"
      }
    },
    {
      "cell_type": "markdown",
      "source": [],
      "metadata": {
        "id": "efoY0Wke1paG"
      }
    },
    {
      "cell_type": "markdown",
      "source": [],
      "metadata": {
        "id": "v2xrx4l-1pcl"
      }
    },
    {
      "cell_type": "markdown",
      "source": [],
      "metadata": {
        "id": "9SnXfEVl1pez"
      }
    },
    {
      "cell_type": "markdown",
      "source": [],
      "metadata": {
        "id": "4gATx8M-1phm"
      }
    },
    {
      "cell_type": "markdown",
      "source": [],
      "metadata": {
        "id": "JZBVrV8A1pj1"
      }
    },
    {
      "cell_type": "markdown",
      "source": [],
      "metadata": {
        "id": "6QCGGPJJ1pmR"
      }
    },
    {
      "cell_type": "markdown",
      "source": [
        "## Reference:\n",
        "[1] Andrew Gelman, John B Carlin, Hal S Stern, David B Dunson, Aki Vehtari, and Donald B\n",
        "Rubin.\n",
        "Bayesian Data Analysis.\n",
        "CRC Press, Boca Raton, FL, third edition, 2014.\n",
        "[2] Christian P. Robert.\n",
        "The Bayesian Choice: From Decision-Theoretic Foundations to Computational\n",
        "Implementation.\n",
        "Springer, second edition, 2007.\n",
        "[3] B. P. Carlin and T. A. Louis.\n",
        "Bayesian Methods for Data Analysis.\n",
        "Chapman & Hall/CRC, third edition, 2008.\n",
        "[4] J.O. Berger.\n",
        "Statistical Decision Theory and Bayesian Analysis.\n",
        "Springer, second edition, 1993.\n",
        "[5] D.J. Lunn, A. Thomas, N. Best, and D. Spiegelhalter.\n",
        "Winbugs – a bayesian modelling framework: concepts, structure, and extensibility.\n",
        "Statistics and Computing, 10:325–337, 2000.\n",
        "\n",
        "[6] D. J. Spiegelhalter, K. R. Abrams, and J. P. Myles.\n",
        "Bayesian Approaches to Clinical Trials and Health-Care Evaluation.\n",
        "Wiley, 2004.\n",
        "[7] Christian P. Robert and George Casella.\n",
        "Introducing Monte Carlo Methods with R.\n",
        "Springer, 2010.\n",
        "[8] Christian P. Robert and George Casella.\n",
        "Monte Carlo Statistical Methods.\n",
        "Springer, second edition, 2004.\n",
        "[9] C. Dansirikul, R. G. Morris, S. E. Tett, and S. B. Duffull.\n",
        "A bayesian approach for population pharmacokinetic modelling of sirolimus.\n",
        "Br.J Clin.Pharmacol., 62(4):420–434, 2006.\n",
        "[10] M. G. Dodds and P. Vicini.\n",
        "Assessing convergence of markov chain monte carlo simulations in hierarchical bayesian\n",
        "models for population pharmacokinetics.\n",
        "Ann.Biomed.Eng, 32(9):1300–1313, 2004."
      ],
      "metadata": {
        "id": "IP9T2JUGfEAL"
      }
    }
  ]
}