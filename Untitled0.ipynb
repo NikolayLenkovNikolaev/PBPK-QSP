{
  "nbformat": 4,
  "nbformat_minor": 0,
  "metadata": {
    "colab": {
      "provenance": [],
      "authorship_tag": "ABX9TyOiMHk6X7DR6NwVM70q4sv0",
      "include_colab_link": true
    },
    "kernelspec": {
      "name": "python3",
      "display_name": "Python 3"
    },
    "language_info": {
      "name": "python"
    }
  },
  "cells": [
    {
      "cell_type": "markdown",
      "metadata": {
        "id": "view-in-github",
        "colab_type": "text"
      },
      "source": [
        "<a href=\"https://colab.research.google.com/github/NikolayLenkovNikolaev/PBPK-QSP/blob/main/Untitled0.ipynb\" target=\"_parent\"><img src=\"https://colab.research.google.com/assets/colab-badge.svg\" alt=\"Open In Colab\"/></a>"
      ]
    },
    {
      "cell_type": "markdown",
      "source": [
        "## What is DMPK and how does it fit into drug development?\n",
        "\n",
        "Drug metabolism and pharmacokinetics (DMPK) is a core discipline in drug development that considers the biotransformation of a drug compound and other pharmacokinetic properties to assess drug safety.\n",
        "\n",
        "DMPK studies allow drug developers to experimentally evaluate intrinsic properties of a drug candidate to validate that it can and will be cleared from the body, when administered to a patient, without producing harmful byproducts (metabolites), reaching dangerous exposure levels (toxicity), or causing adverse side effects.\n",
        "\n",
        "This class of in vitro and in vivo studies can also help drug developers to predict potential risks, early in drug development, as well as provide nonclinical evidence to justify decisions or explain clinical observations.\n",
        "\n",
        "An important risk DMPK studies can help evaluate is the potential for **drug-drug interactions (DDIs)**, occurring when adverse effects result from a patient taking multiple medications. Properly investigating a drug’s interactions with metabolizing enzymes and drug transporters in vitro can identify risks before first in-human trials and help the drug developer anticipate and plan clinical DDI studies or labeling restrictions if necessary.\n",
        "\n",
        "\n",
        "1. Pharmacokinetic profile:\n",
        "\n",
        "Pharmacology is the study of the uses, effects and modes of action of a drug. Comprised of two complementary elements: pharmacodynamics (PD), describing what a drug does to the body once it reaches the site of action, and pharmacokinetics (PK), which put simply is what the body does to a drug along the way and afterward. Broadly speaking, pharmacokinetics tell the story of how a xenobiotic moves into, through, and out of the body.\n",
        "\n",
        "\n",
        "2. Drug metabolism\n",
        "\n",
        "Drug metabolism describes the enzymatic conversion of a drug into other related compounds (metabolites), usually caused by drug-metabolizing enzymes. The main goal of this conversion process is to make a lipophilic molecule more hydrophilic (water-soluble) so it can be eliminated.\n",
        "\n",
        "2.1. IN-VITRO\n",
        "\n",
        "The three major in vitro drug metabolism studies are:\n",
        "- Metabolic Stability\n",
        "- Metabolite Characterization\n",
        "- Reaction Phenotyping\n",
        "\n",
        "2.2 Species comparison\n",
        "\n",
        "2.3. Metabolism-mediated drug interactions\n",
        "\n",
        "2.4. In Vivo studies:\n",
        "- In vivo ADME studies using radiolabeled drug are typically conducted pre-IND through Phase I of clinical trials.3 In vivo models reflect combined effects of permeability, distribution, metabolism, and elimination before administration to a human."
      ],
      "metadata": {
        "id": "Tw7V4ZTMLAo1"
      }
    },
    {
      "cell_type": "markdown",
      "source": [],
      "metadata": {
        "id": "BzUw_Nn9LAr6"
      }
    },
    {
      "cell_type": "markdown",
      "source": [],
      "metadata": {
        "id": "09bZwX0ALAuz"
      }
    },
    {
      "cell_type": "markdown",
      "source": [],
      "metadata": {
        "id": "o3j5Fh7wLAx7"
      }
    },
    {
      "cell_type": "markdown",
      "source": [],
      "metadata": {
        "id": "qmKdpIb6LA0p"
      }
    },
    {
      "cell_type": "markdown",
      "source": [],
      "metadata": {
        "id": "8gpdYhIaLA3a"
      }
    },
    {
      "cell_type": "markdown",
      "source": [],
      "metadata": {
        "id": "pUAQZwvMLA6J"
      }
    },
    {
      "cell_type": "markdown",
      "source": [],
      "metadata": {
        "id": "CTmJNvZsLA85"
      }
    },
    {
      "cell_type": "markdown",
      "source": [],
      "metadata": {
        "id": "Bejy5RJXLA_x"
      }
    },
    {
      "cell_type": "markdown",
      "source": [],
      "metadata": {
        "id": "C4i0znydLBCR"
      }
    },
    {
      "cell_type": "markdown",
      "source": [],
      "metadata": {
        "id": "TDwgsVc3LBEq"
      }
    },
    {
      "cell_type": "markdown",
      "source": [],
      "metadata": {
        "id": "dDrBdv-7LBPp"
      }
    },
    {
      "cell_type": "markdown",
      "source": [],
      "metadata": {
        "id": "GB12VKNgLBSS"
      }
    },
    {
      "cell_type": "markdown",
      "source": [],
      "metadata": {
        "id": "gIl58kxULBU5"
      }
    },
    {
      "cell_type": "markdown",
      "source": [],
      "metadata": {
        "id": "vLzNejecLBXR"
      }
    },
    {
      "cell_type": "markdown",
      "source": [],
      "metadata": {
        "id": "RmNg3FrcLBZ5"
      }
    }
  ]
}